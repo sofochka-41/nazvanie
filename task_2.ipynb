{
 "cells": [
  {
   "cell_type": "markdown",
   "metadata": {},
   "source": [
    "# Немного математической теории\n",
    "Напишем функцию, которая будет приближённо считать гипербалический синус для небольших $x$:\n",
    "$$\\sh (x) = x + \\frac{x^3}{3!} + \\frac{x^5}{5!} + \\frac{x^7}{7!} + \\ldots + R(x) =\n",
    "\\sum_{n=0}^N \\frac{x^{2n+1}}{(2n+1)!} + R(x),$$\n",
    "причём $R(x) \\xrightarrow[N \\rightarrow \\infty]{} 0$.\n",
    "\n",
    "Это частичная сумма так называемого ряда Тейлора:\n",
    "$$ f(x) = f(a)+\\sum_{k=1}^\\infty {f^{(k)} (a) \\over k!} (x - a)^k. $$"
   ]
  },
  {
   "cell_type": "code",
   "execution_count": 7,
   "metadata": {},
   "outputs": [
    {
     "name": "stdout",
     "output_type": "stream",
     "text": [
      "Help on built-in function sinh in module math:\n",
      "\n",
      "sinh(x, /)\n",
      "    Return the hyperbolic sine of x.\n",
      "\n",
      "Help on function my_sinh in module __main__:\n",
      "\n",
      "my_sinh(x)\n",
      "    Вычисление гипербалического синуса при помощи частичного суммирования\n",
      "    ряда Тейлора для окрестности 0\n",
      "\n",
      "0.4107523258028155\n",
      "0.4107523258028155\n"
     ]
    }
   ],
   "source": [
    "import math  # Библиотека, содержащая популярные математические функции и константы. Например: число Пи, логарифмы, тригонометрические функции \n",
    "\n",
    "ITERATIONS = 20  # Константа, в которой содержится число членов частичной суммы\n",
    "\n",
    "def my_sinh(x):  # Функция, которая будет считать гипербалический синус через ряд тейлора\n",
    "    \"\"\"\n",
    "    Вычисление гипербалического синуса при помощи частичного суммирования\n",
    "    ряда Тейлора для окрестности 0\n",
    "    \"\"\"  # Фраза, которая будет написана при вызове справки о функции \n",
    "    power = x  # Переменной power (степень) будут присваиваться значения х в нечётных степенях\n",
    "    fac = 1  # Переменной fac (факториал) будут присваиваться значения факториала, так как факториал это произведение, то для правильного значения мы должны присвоит fac значения 1, если fac = 0, то значение произведения будет 0\n",
    "    partial_sum = x  # Переменной partial_sum (частичная сумма) будут присвоены значения частичной суммы на каждом шаге\n",
    "    for n in range(1, ITERATIONS):  # Cчитаем частичную сумму в цикле \n",
    "        power *= x**2  # В цикле постепенно считаем степень\n",
    "        fac *= (2*n) * (2*n + 1)  # Считаем факториал\n",
    "        partial_sum += power / fac  # Считаем частичную сумму\n",
    "    \n",
    "    return partial_sum  # Выводим получившееся значение частичной суммы\n",
    "\n",
    "help(math.sinh)  # Cправка библиотечной функции sh\n",
    "help(my_sinh)  # Справка нашей функции sh\n",
    "\n",
    "print(math.sinh(0.4))  # Вывод значения библиотечной функции sh(0.4)\n",
    "print(my_sinh(0.4))  # Вывод значения нашей функции sh(0.4)"
   ]
  },
  {
   "cell_type": "markdown",
   "metadata": {},
   "source": [
    "Но это ещё не все возможности нашей функции. Она может считать гипербалический синус комплексного аргумента и даже точнее библиотечной. "
   ]
  },
  {
   "cell_type": "code",
   "execution_count": 8,
   "metadata": {},
   "outputs": [
    {
     "name": "stdout",
     "output_type": "stream",
     "text": [
      "\"Угол\", на котором синус достигает пяти: (2.3124383412727525+0j)\n",
      "Достигает ли пяти наш синус? (5+0j)\n",
      "А библиотечный? (4.999999999999999+0j)\n"
     ]
    }
   ],
   "source": [
    "import cmath  # Модуль для работы с комплексными числами\n",
    "\n",
    "complex_angle = cmath.asinh(5)  # Угол, на котором гипербалический синус достигает пяти\n",
    "print('\"Угол\", на котором синус достигает пяти:', complex_angle)  # Вывод значения угла\n",
    "\n",
    "print(\"Достигает ли пяти наш синус?\", my_sinh(complex_angle))  # Выводим значенияе нашего гипербалического синуса в найденом угле\n",
    "print(\"А библиотечный?\", cmath.sinh(complex_angle))  # Выводим значенияе библиотечного гипербалического синуса в найденом угле "
   ]
  },
  {
   "cell_type": "markdown",
   "metadata": {},
   "source": [
    "Посмотри похож ли график нашей функции на библиотечный.\n"
   ]
  },
  {
   "cell_type": "code",
   "execution_count": 9,
   "metadata": {},
   "outputs": [
    {
     "name": "stdout",
     "output_type": "stream",
     "text": [
      "<function my_sinh at 0x000001D053E397E0> <numpy.vectorize object at 0x000001D04B8D0C10>\n"
     ]
    },
    {
     "data": {
      "application/pdf": "[encoded data removed]",
      "image/svg+xml": "<?xml version=\"1.0\" encoding=\"utf-8\" standalone=\"no\"?>\n<!DOCTYPE svg PUBLIC \"-//W3C//DTD SVG 1.1//EN\"\n  \"http://www.w3.org/Graphics/SVG/1.1/DTD/svg11.dtd\">\n<svg xmlns:xlink=\"http://www.w3.org/1999/xlink\" width=\"393.262187pt\" height=\"307.788562pt\" viewBox=\"0 0 393.262187 307.788562\" xmlns=\"http://www.w3.org/2000/svg\" version=\"1.1\">\n <metadata>\n  <rdf:RDF xmlns:dc=\"http://purl.org/dc/elements/1.1/\" xmlns:cc=\"http://creativecommons.org/ns#\" xmlns:rdf=\"http://www.w3.org/1999/02/22-rdf-syntax-ns#\">\n   <cc:Work>\n    <dc:type rdf:resource=\"http://purl.org/dc/dcmitype/StillImage\"/>\n    <dc:date>2022-10-19T00:05:25.212639</dc:date>\n    <dc:format>image/svg+xml</dc:format>\n    <dc:creator>\n     <cc:Agent>\n      <dc:title>Matplotlib v3.6.0, https://matplotlib.org/</dc:title>\n     </cc:Agent>\n    </dc:creator>\n   </cc:Work>\n  </rdf:RDF>\n </metadata>\n <defs>\n  <style type=\"text/css\">*{stroke-linejoin: round; stroke-linecap: butt}</style>\n </defs>\n <g id=\"figure_1\">\n  <g id=\"patch_1\">\n   <path d=\"M 0 307.788562 \nL 393.262187 307.788562 \nL 393.262187 0 \nL 0 0 \nz\n\" style=\"fill: #ffffff\"/>\n  </g>\n  <g id=\"axes_1\">\n   <g id=\"patch_2\">\n    <path d=\"M 28.942188 283.910437 \nL 386.062188 283.910437 \nL 386.062188 17.798437 \nL 28.942188 17.798437 \nz\n\" style=\"fill: #ffffff\"/>\n   </g>\n   <g id=\"matplotlib.axis_1\">\n    <g id=\"xtick_1\">\n     <g id=\"line2d_1\">\n      <defs>\n       <path id=\"m610eb03465\" d=\"M 0 0 \nL 0 3.5 \n\" style=\"stroke: #000000; stroke-width: 0.8\"/>\n      </defs>\n      <g>\n       <use xlink:href=\"#m610eb03465\" x=\"57.665471\" y=\"283.910437\" style=\"stroke: #000000; stroke-width: 0.8\"/>\n      </g>\n     </g>\n     <g id=\"text_1\">\n      <!-- −15 -->\n      <g transform=\"translate(47.113128 298.508875) scale(0.1 -0.1)\">\n       <defs>\n        <path id=\"DejaVuSans-2212\" d=\"M 678 2272 \nL 4684 2272 \nL 4684 1741 \nL 678 1741 \nL 678 2272 \nz\n\" transform=\"scale(0.015625)\"/>\n        <path id=\"DejaVuSans-31\" d=\"M 794 531 \nL 1825 531 \nL 1825 4091 \nL 703 3866 \nL 703 4441 \nL 1819 4666 \nL 2450 4666 \nL 2450 531 \nL 3481 531 \nL 3481 0 \nL 794 0 \nL 794 531 \nz\n\" transform=\"scale(0.015625)\"/>\n        <path id=\"DejaVuSans-35\" d=\"M 691 4666 \nL 3169 4666 \nL 3169 4134 \nL 1269 4134 \nL 1269 2991 \nQ 1406 3038 1543 3061 \nQ 1681 3084 1819 3084 \nQ 2600 3084 3056 2656 \nQ 3513 2228 3513 1497 \nQ 3513 744 3044 326 \nQ 2575 -91 1722 -91 \nQ 1428 -91 1123 -41 \nQ 819 9 494 109 \nL 494 744 \nQ 775 591 1075 516 \nQ 1375 441 1709 441 \nQ 2250 441 2565 725 \nQ 2881 1009 2881 1497 \nQ 2881 1984 2565 2268 \nQ 2250 2553 1709 2553 \nQ 1456 2553 1204 2497 \nQ 953 2441 691 2322 \nL 691 4666 \nz\n\" transform=\"scale(0.015625)\"/>\n       </defs>\n       <use xlink:href=\"#DejaVuSans-2212\"/>\n       <use xlink:href=\"#DejaVuSans-31\" x=\"83.789062\"/>\n       <use xlink:href=\"#DejaVuSans-35\" x=\"147.412109\"/>\n      </g>\n     </g>\n    </g>\n    <g id=\"xtick_2\">\n     <g id=\"line2d_2\">\n      <g>\n       <use xlink:href=\"#m610eb03465\" x=\"107.627697\" y=\"283.910437\" style=\"stroke: #000000; stroke-width: 0.8\"/>\n      </g>\n     </g>\n     <g id=\"text_2\">\n      <!-- −10 -->\n      <g transform=\"translate(97.075354 298.508875) scale(0.1 -0.1)\">\n       <defs>\n        <path id=\"DejaVuSans-30\" d=\"M 2034 4250 \nQ 1547 4250 1301 3770 \nQ 1056 3291 1056 2328 \nQ 1056 1369 1301 889 \nQ 1547 409 2034 409 \nQ 2525 409 2770 889 \nQ 3016 1369 3016 2328 \nQ 3016 3291 2770 3770 \nQ 2525 4250 2034 4250 \nz\nM 2034 4750 \nQ 2819 4750 3233 4129 \nQ 3647 3509 3647 2328 \nQ 3647 1150 3233 529 \nQ 2819 -91 2034 -91 \nQ 1250 -91 836 529 \nQ 422 1150 422 2328 \nQ 422 3509 836 4129 \nQ 1250 4750 2034 4750 \nz\n\" transform=\"scale(0.015625)\"/>\n       </defs>\n       <use xlink:href=\"#DejaVuSans-2212\"/>\n       <use xlink:href=\"#DejaVuSans-31\" x=\"83.789062\"/>\n       <use xlink:href=\"#DejaVuSans-30\" x=\"147.412109\"/>\n      </g>\n     </g>\n    </g>\n    <g id=\"xtick_3\">\n     <g id=\"line2d_3\">\n      <g>\n       <use xlink:href=\"#m610eb03465\" x=\"157.589924\" y=\"283.910437\" style=\"stroke: #000000; stroke-width: 0.8\"/>\n      </g>\n     </g>\n     <g id=\"text_3\">\n      <!-- −5 -->\n      <g transform=\"translate(150.21883 298.508875) scale(0.1 -0.1)\">\n       <use xlink:href=\"#DejaVuSans-2212\"/>\n       <use xlink:href=\"#DejaVuSans-35\" x=\"83.789062\"/>\n      </g>\n     </g>\n    </g>\n    <g id=\"xtick_4\">\n     <g id=\"line2d_4\">\n      <g>\n       <use xlink:href=\"#m610eb03465\" x=\"207.55215\" y=\"283.910437\" style=\"stroke: #000000; stroke-width: 0.8\"/>\n      </g>\n     </g>\n     <g id=\"text_4\">\n      <!-- 0 -->\n      <g transform=\"translate(204.3709 298.508875) scale(0.1 -0.1)\">\n       <use xlink:href=\"#DejaVuSans-30\"/>\n      </g>\n     </g>\n    </g>\n    <g id=\"xtick_5\">\n     <g id=\"line2d_5\">\n      <g>\n       <use xlink:href=\"#m610eb03465\" x=\"257.514376\" y=\"283.910437\" style=\"stroke: #000000; stroke-width: 0.8\"/>\n      </g>\n     </g>\n     <g id=\"text_5\">\n      <!-- 5 -->\n      <g transform=\"translate(254.333126 298.508875) scale(0.1 -0.1)\">\n       <use xlink:href=\"#DejaVuSans-35\"/>\n      </g>\n     </g>\n    </g>\n    <g id=\"xtick_6\">\n     <g id=\"line2d_6\">\n      <g>\n       <use xlink:href=\"#m610eb03465\" x=\"307.476602\" y=\"283.910437\" style=\"stroke: #000000; stroke-width: 0.8\"/>\n      </g>\n     </g>\n     <g id=\"text_6\">\n      <!-- 10 -->\n      <g transform=\"translate(301.114102 298.508875) scale(0.1 -0.1)\">\n       <use xlink:href=\"#DejaVuSans-31\"/>\n       <use xlink:href=\"#DejaVuSans-30\" x=\"63.623047\"/>\n      </g>\n     </g>\n    </g>\n    <g id=\"xtick_7\">\n     <g id=\"line2d_7\">\n      <g>\n       <use xlink:href=\"#m610eb03465\" x=\"357.438828\" y=\"283.910437\" style=\"stroke: #000000; stroke-width: 0.8\"/>\n      </g>\n     </g>\n     <g id=\"text_7\">\n      <!-- 15 -->\n      <g transform=\"translate(351.076328 298.508875) scale(0.1 -0.1)\">\n       <use xlink:href=\"#DejaVuSans-31\"/>\n       <use xlink:href=\"#DejaVuSans-35\" x=\"63.623047\"/>\n      </g>\n     </g>\n    </g>\n   </g>\n   <g id=\"matplotlib.axis_2\">\n    <g id=\"ytick_1\">\n     <g id=\"line2d_8\">\n      <defs>\n       <path id=\"m7f9f7061e1\" d=\"M 0 0 \nL -3.5 0 \n\" style=\"stroke: #000000; stroke-width: 0.8\"/>\n      </defs>\n      <g>\n       <use xlink:href=\"#m7f9f7061e1\" x=\"28.942188\" y=\"278.100527\" style=\"stroke: #000000; stroke-width: 0.8\"/>\n      </g>\n     </g>\n     <g id=\"text_8\">\n      <!-- −6 -->\n      <g transform=\"translate(7.2 281.899746) scale(0.1 -0.1)\">\n       <defs>\n        <path id=\"DejaVuSans-36\" d=\"M 2113 2584 \nQ 1688 2584 1439 2293 \nQ 1191 2003 1191 1497 \nQ 1191 994 1439 701 \nQ 1688 409 2113 409 \nQ 2538 409 2786 701 \nQ 3034 994 3034 1497 \nQ 3034 2003 2786 2293 \nQ 2538 2584 2113 2584 \nz\nM 3366 4563 \nL 3366 3988 \nQ 3128 4100 2886 4159 \nQ 2644 4219 2406 4219 \nQ 1781 4219 1451 3797 \nQ 1122 3375 1075 2522 \nQ 1259 2794 1537 2939 \nQ 1816 3084 2150 3084 \nQ 2853 3084 3261 2657 \nQ 3669 2231 3669 1497 \nQ 3669 778 3244 343 \nQ 2819 -91 2113 -91 \nQ 1303 -91 875 529 \nQ 447 1150 447 2328 \nQ 447 3434 972 4092 \nQ 1497 4750 2381 4750 \nQ 2619 4750 2861 4703 \nQ 3103 4656 3366 4563 \nz\n\" transform=\"scale(0.015625)\"/>\n       </defs>\n       <use xlink:href=\"#DejaVuSans-2212\"/>\n       <use xlink:href=\"#DejaVuSans-36\" x=\"83.789062\"/>\n      </g>\n     </g>\n    </g>\n    <g id=\"ytick_2\">\n     <g id=\"line2d_9\">\n      <g>\n       <use xlink:href=\"#m7f9f7061e1\" x=\"28.942188\" y=\"235.483566\" style=\"stroke: #000000; stroke-width: 0.8\"/>\n      </g>\n     </g>\n     <g id=\"text_9\">\n      <!-- −4 -->\n      <g transform=\"translate(7.2 239.282784) scale(0.1 -0.1)\">\n       <defs>\n        <path id=\"DejaVuSans-34\" d=\"M 2419 4116 \nL 825 1625 \nL 2419 1625 \nL 2419 4116 \nz\nM 2253 4666 \nL 3047 4666 \nL 3047 1625 \nL 3713 1625 \nL 3713 1100 \nL 3047 1100 \nL 3047 0 \nL 2419 0 \nL 2419 1100 \nL 313 1100 \nL 313 1709 \nL 2253 4666 \nz\n\" transform=\"scale(0.015625)\"/>\n       </defs>\n       <use xlink:href=\"#DejaVuSans-2212\"/>\n       <use xlink:href=\"#DejaVuSans-34\" x=\"83.789062\"/>\n      </g>\n     </g>\n    </g>\n    <g id=\"ytick_3\">\n     <g id=\"line2d_10\">\n      <g>\n       <use xlink:href=\"#m7f9f7061e1\" x=\"28.942188\" y=\"192.866604\" style=\"stroke: #000000; stroke-width: 0.8\"/>\n      </g>\n     </g>\n     <g id=\"text_10\">\n      <!-- −2 -->\n      <g transform=\"translate(7.2 196.665823) scale(0.1 -0.1)\">\n       <defs>\n        <path id=\"DejaVuSans-32\" d=\"M 1228 531 \nL 3431 531 \nL 3431 0 \nL 469 0 \nL 469 531 \nQ 828 903 1448 1529 \nQ 2069 2156 2228 2338 \nQ 2531 2678 2651 2914 \nQ 2772 3150 2772 3378 \nQ 2772 3750 2511 3984 \nQ 2250 4219 1831 4219 \nQ 1534 4219 1204 4116 \nQ 875 4013 500 3803 \nL 500 4441 \nQ 881 4594 1212 4672 \nQ 1544 4750 1819 4750 \nQ 2544 4750 2975 4387 \nQ 3406 4025 3406 3419 \nQ 3406 3131 3298 2873 \nQ 3191 2616 2906 2266 \nQ 2828 2175 2409 1742 \nQ 1991 1309 1228 531 \nz\n\" transform=\"scale(0.015625)\"/>\n       </defs>\n       <use xlink:href=\"#DejaVuSans-2212\"/>\n       <use xlink:href=\"#DejaVuSans-32\" x=\"83.789062\"/>\n      </g>\n     </g>\n    </g>\n    <g id=\"ytick_4\">\n     <g id=\"line2d_11\">\n      <g>\n       <use xlink:href=\"#m7f9f7061e1\" x=\"28.942188\" y=\"150.249643\" style=\"stroke: #000000; stroke-width: 0.8\"/>\n      </g>\n     </g>\n     <g id=\"text_11\">\n      <!-- 0 -->\n      <g transform=\"translate(15.579688 154.048861) scale(0.1 -0.1)\">\n       <use xlink:href=\"#DejaVuSans-30\"/>\n      </g>\n     </g>\n    </g>\n    <g id=\"ytick_5\">\n     <g id=\"line2d_12\">\n      <g>\n       <use xlink:href=\"#m7f9f7061e1\" x=\"28.942188\" y=\"107.632681\" style=\"stroke: #000000; stroke-width: 0.8\"/>\n      </g>\n     </g>\n     <g id=\"text_12\">\n      <!-- 2 -->\n      <g transform=\"translate(15.579688 111.4319) scale(0.1 -0.1)\">\n       <use xlink:href=\"#DejaVuSans-32\"/>\n      </g>\n     </g>\n    </g>\n    <g id=\"ytick_6\">\n     <g id=\"line2d_13\">\n      <g>\n       <use xlink:href=\"#m7f9f7061e1\" x=\"28.942188\" y=\"65.01572\" style=\"stroke: #000000; stroke-width: 0.8\"/>\n      </g>\n     </g>\n     <g id=\"text_13\">\n      <!-- 4 -->\n      <g transform=\"translate(15.579688 68.814938) scale(0.1 -0.1)\">\n       <use xlink:href=\"#DejaVuSans-34\"/>\n      </g>\n     </g>\n    </g>\n    <g id=\"ytick_7\">\n     <g id=\"line2d_14\">\n      <g>\n       <use xlink:href=\"#m7f9f7061e1\" x=\"28.942188\" y=\"22.398758\" style=\"stroke: #000000; stroke-width: 0.8\"/>\n      </g>\n     </g>\n     <g id=\"text_14\">\n      <!-- 6 -->\n      <g transform=\"translate(15.579688 26.197977) scale(0.1 -0.1)\">\n       <use xlink:href=\"#DejaVuSans-36\"/>\n      </g>\n     </g>\n    </g>\n    <g id=\"text_15\">\n     <!-- 1e6 -->\n     <g transform=\"translate(28.942188 14.798437) scale(0.1 -0.1)\">\n      <defs>\n       <path id=\"DejaVuSans-65\" d=\"M 3597 1894 \nL 3597 1613 \nL 953 1613 \nQ 991 1019 1311 708 \nQ 1631 397 2203 397 \nQ 2534 397 2845 478 \nQ 3156 559 3463 722 \nL 3463 178 \nQ 3153 47 2828 -22 \nQ 2503 -91 2169 -91 \nQ 1331 -91 842 396 \nQ 353 884 353 1716 \nQ 353 2575 817 3079 \nQ 1281 3584 2069 3584 \nQ 2775 3584 3186 3129 \nQ 3597 2675 3597 1894 \nz\nM 3022 2063 \nQ 3016 2534 2758 2815 \nQ 2500 3097 2075 3097 \nQ 1594 3097 1305 2825 \nQ 1016 2553 972 2059 \nL 3022 2063 \nz\n\" transform=\"scale(0.015625)\"/>\n      </defs>\n      <use xlink:href=\"#DejaVuSans-31\"/>\n      <use xlink:href=\"#DejaVuSans-65\" x=\"63.623047\"/>\n      <use xlink:href=\"#DejaVuSans-36\" x=\"125.146484\"/>\n     </g>\n    </g>\n   </g>\n   <g id=\"line2d_15\">\n    <path d=\"M 45.174915 271.814437 \nL 46.673782 254.881431 \nL 48.172648 240.307058 \nL 49.671515 227.762778 \nL 51.170382 216.965817 \nL 52.669249 207.672786 \nL 54.168115 199.6742 \nL 55.666982 192.789753 \nL 57.265773 186.499934 \nL 58.864565 181.140103 \nL 60.463356 176.572757 \nL 62.062147 172.680721 \nL 63.660938 169.364146 \nL 65.25973 166.537948 \nL 66.958445 163.991513 \nL 68.657161 161.843175 \nL 70.455801 159.933375 \nL 72.254441 158.338176 \nL 74.153006 156.938529 \nL 76.251419 155.671549 \nL 78.449757 154.600824 \nL 80.947869 153.638346 \nL 83.745753 152.81077 \nL 86.943336 152.109402 \nL 90.640541 151.534243 \nL 95.137141 151.06874 \nL 100.832835 150.712863 \nL 108.726866 150.459873 \nL 121.117499 150.31048 \nL 148.796572 150.253455 \nL 303.979246 150.08427 \nL 313.671918 149.813398 \nL 320.067083 149.422313 \nL 324.863457 148.912617 \nL 328.660586 148.294531 \nL 331.858168 147.557204 \nL 334.656053 146.687196 \nL 337.154164 145.675371 \nL 339.352502 144.549749 \nL 341.350991 143.287777 \nL 343.249556 141.83101 \nL 345.048196 140.170709 \nL 346.746912 138.303034 \nL 348.445627 136.08927 \nL 350.044419 133.632291 \nL 351.64321 130.749 \nL 353.142077 127.593128 \nL 354.640943 123.926529 \nL 356.13981 119.666547 \nL 357.638677 114.717155 \nL 359.137544 108.966782 \nL 360.636411 102.285802 \nL 362.135277 94.52361 \nL 363.634144 85.505229 \nL 365.133011 75.027366 \nL 366.631878 62.853826 \nL 368.130745 48.710191 \nL 369.629611 32.27763 \nL 369.82946 29.894438 \nL 369.82946 29.894438 \n\" clip-path=\"url(#pd78e92e813)\" style=\"fill: none; stroke: #00ffff; stroke-width: 3; stroke-linecap: square\"/>\n   </g>\n   <g id=\"line2d_16\">\n    <path d=\"M 45.174915 271.814405 \nL 46.673782 254.881409 \nL 48.172648 240.307042 \nL 49.671515 227.762768 \nL 51.170382 216.96581 \nL 52.669249 207.672781 \nL 54.168115 199.674197 \nL 55.666982 192.789751 \nL 57.265773 186.499932 \nL 58.864565 181.140102 \nL 60.463356 176.572756 \nL 62.062147 172.68072 \nL 63.660938 169.364146 \nL 65.25973 166.537948 \nL 66.958445 163.991513 \nL 68.657161 161.843175 \nL 70.455801 159.933375 \nL 72.254441 158.338176 \nL 74.153006 156.938529 \nL 76.251419 155.671549 \nL 78.449757 154.600824 \nL 80.947869 153.638346 \nL 83.745753 152.81077 \nL 86.943336 152.109402 \nL 90.640541 151.534243 \nL 95.137141 151.06874 \nL 100.832835 150.712863 \nL 108.726866 150.459873 \nL 121.117499 150.31048 \nL 148.796572 150.253455 \nL 303.979246 150.08427 \nL 313.671918 149.813398 \nL 320.067083 149.422313 \nL 324.863457 148.912617 \nL 328.660586 148.294531 \nL 331.858168 147.557204 \nL 334.656053 146.687196 \nL 337.154164 145.675371 \nL 339.352502 144.549749 \nL 341.350991 143.287777 \nL 343.249556 141.83101 \nL 345.048196 140.170709 \nL 346.746912 138.303034 \nL 348.445627 136.08927 \nL 350.044419 133.632291 \nL 351.64321 130.749 \nL 353.142077 127.593129 \nL 354.640943 123.926529 \nL 356.13981 119.666548 \nL 357.638677 114.717157 \nL 359.137544 108.966784 \nL 360.636411 102.285805 \nL 362.135277 94.523614 \nL 363.634144 85.505236 \nL 365.133011 75.027376 \nL 366.631878 62.85384 \nL 368.130745 48.710211 \nL 369.629611 32.277661 \nL 369.82946 29.89447 \nL 369.82946 29.89447 \n\" clip-path=\"url(#pd78e92e813)\" style=\"fill: none; stroke: #000000; stroke-linecap: square\"/>\n   </g>\n   <g id=\"patch_3\">\n    <path d=\"M 28.942188 283.910437 \nL 28.942188 17.798438 \n\" style=\"fill: none; stroke: #000000; stroke-width: 0.8; stroke-linejoin: miter; stroke-linecap: square\"/>\n   </g>\n   <g id=\"patch_4\">\n    <path d=\"M 386.062188 283.910437 \nL 386.062188 17.798438 \n\" style=\"fill: none; stroke: #000000; stroke-width: 0.8; stroke-linejoin: miter; stroke-linecap: square\"/>\n   </g>\n   <g id=\"patch_5\">\n    <path d=\"M 28.942188 283.910437 \nL 386.062188 283.910437 \n\" style=\"fill: none; stroke: #000000; stroke-width: 0.8; stroke-linejoin: miter; stroke-linecap: square\"/>\n   </g>\n   <g id=\"patch_6\">\n    <path d=\"M 28.942188 17.798437 \nL 386.062188 17.798437 \n\" style=\"fill: none; stroke: #000000; stroke-width: 0.8; stroke-linejoin: miter; stroke-linecap: square\"/>\n   </g>\n  </g>\n </g>\n <defs>\n  <clipPath id=\"pd78e92e813\">\n   <rect x=\"28.942188\" y=\"17.798437\" width=\"357.12\" height=\"266.112\"/>\n  </clipPath>\n </defs>\n</svg>\n",
      "text/plain": [
       "<Figure size 640x480 with 1 Axes>"
      ]
     },
     "metadata": {},
     "output_type": "display_data"
    }
   ],
   "source": [
    "import matplotlib.pyplot as plt  # Библиотека для построения графиков\n",
    "%config InlineBackend.figure_formats = ['svg',  'pdf']  # Разрешения графика svg и pdf\n",
    "%matplotlib inline\n",
    "\n",
    "\n",
    "import matplotlib.pyplot as plt  # Библиотека для построения графиков\n",
    "import numpy as np  # Библиотека Python с массивами, матрицами и функциями для них\n",
    "\n",
    "vs = np.vectorize(my_sinh)  # Векторизация функции my_sinh\n",
    "print(my_sinh, vs)\n",
    "\n",
    "angles = np.r_[-16.25:16.25:0.01]  # Значения х в диапазоне от -16.25 до 16.25 с шагом 0.01\n",
    "plt.plot(angles, np.sinh(angles), linewidth=3.0, color='cyan')  # Построение библиотечной функции sh(x) толщиной 3 голубого цвета\n",
    "plt.plot(angles, vs(angles), linewidth=1.0, color='black')  # Построение нашей функции sh(x) тольщиной 1 чёрного цвета\n",
    "plt.show()  #"
   ]
  }
 ],
 "metadata": {
  "kernelspec": {
   "display_name": "Python 3.10.7 64-bit",
   "language": "python",
   "name": "python3"
  },
  "language_info": {
   "codemirror_mode": {
    "name": "ipython",
    "version": 3
   },
   "file_extension": ".py",
   "mimetype": "text/x-python",
   "name": "python",
   "nbconvert_exporter": "python",
   "pygments_lexer": "ipython3",
   "version": "3.10.7"
  },
  "orig_nbformat": 4,
  "vscode": {
   "interpreter": {
    "hash": "fb4569285eef3a3450cb62085a5b1e0da4bce0af555edc33dcf29baf3acc1368"
   }
  }
 },
 "nbformat": 4,
 "nbformat_minor": 2
}
